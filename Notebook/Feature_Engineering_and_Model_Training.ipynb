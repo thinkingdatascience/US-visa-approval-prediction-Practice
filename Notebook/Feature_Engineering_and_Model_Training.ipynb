{
 "cells": [
  {
   "cell_type": "markdown",
   "id": "e44e8287-9639-43b7-9a08-c360bb16e43e",
   "metadata": {},
   "source": [
    "# Data Preprocessing"
   ]
  },
  {
   "cell_type": "markdown",
   "id": "8bbe5e28-c21b-4ae4-b2c3-096d8b24abc1",
   "metadata": {},
   "source": [
    "### Import Packages and CSV"
   ]
  },
  {
   "cell_type": "code",
   "execution_count": 2,
   "id": "80e02462-c27a-49cc-b0e5-45afb5c32efd",
   "metadata": {},
   "outputs": [],
   "source": [
    "import pandas as pd\n",
    "import numpy as np\n",
    "import matplotlib.pyplot as plt\n",
    "import seaborn as sns\n",
    "import warnings\n",
    "warnings.filterwarnings(\"ignore\")\n",
    "\n",
    "pd.pandas.set_option(\"display.max_columns\",None)\n",
    "\n",
    "# import Dataset\n",
    "df = pd.read_csv(\"Visadataset.csv\")"
   ]
  },
  {
   "cell_type": "code",
   "execution_count": 4,
   "id": "997bff8c-bd37-4f39-902c-052b9ef5f344",
   "metadata": {},
   "outputs": [
    {
     "data": {
      "text/plain": [
       "(25480, 12)"
      ]
     },
     "execution_count": 4,
     "metadata": {},
     "output_type": "execute_result"
    }
   ],
   "source": [
    "df.shape"
   ]
  },
  {
   "cell_type": "markdown",
   "id": "de870b39-2147-4733-8d19-d28bea698ef0",
   "metadata": {},
   "source": [
    "## Data Cleaning:"
   ]
  },
  {
   "cell_type": "markdown",
   "id": "4be6aea0-b0b1-4c1f-854e-f86e53492fab",
   "metadata": {},
   "source": [
    "#### Handling Missing values:\n",
    "\n",
    "* Check the Null Values\n",
    "* Checking Duplicates\n",
    "* Check data type\n",
    "* Understand the dataset\n"
   ]
  },
  {
   "cell_type": "markdown",
   "id": "15c82700-a443-4dd1-bc9a-b2db00f846ec",
   "metadata": {},
   "source": [
    "#### Check Null Values"
   ]
  },
  {
   "cell_type": "code",
   "execution_count": 6,
   "id": "e3e59c1a-c6f3-4334-9085-5b066537ed48",
   "metadata": {},
   "outputs": [],
   "source": [
    "features_with_na = [var for var in df.columns if df[var].isnull().sum()>=1]\n",
    "for feature in features_with_na:\n",
    "    print(feature,np.round(df[feature].isnull().mean()*100),\"% of missing values\")"
   ]
  },
  {
   "cell_type": "markdown",
   "id": "409ceef0-4d8c-4bd3-a190-b0ada8698241",
   "metadata": {},
   "source": [
    "#### Checking Duplicates"
   ]
  },
  {
   "cell_type": "code",
   "execution_count": 7,
   "id": "b6a8416e-8cd0-4288-9901-0de9daf8b789",
   "metadata": {},
   "outputs": [
    {
     "data": {
      "text/plain": [
       "0"
      ]
     },
     "execution_count": 7,
     "metadata": {},
     "output_type": "execute_result"
    }
   ],
   "source": [
    "df.duplicated().sum()"
   ]
  },
  {
   "cell_type": "markdown",
   "id": "d967c0ad-ea42-4f50-bdcb-01ac75ca00f9",
   "metadata": {},
   "source": [
    "#### Remove `case_id`  which has all unique values from the dataset."
   ]
  },
  {
   "cell_type": "code",
   "execution_count": 11,
   "id": "58c9ef30-5487-41cf-b81a-efd9ab611a3c",
   "metadata": {},
   "outputs": [],
   "source": [
    "df.drop('case_id',axis=1,inplace=True)"
   ]
  },
  {
   "cell_type": "markdown",
   "id": "83abd7b7-e65a-41c3-b782-cc4103fd22ae",
   "metadata": {},
   "source": [
    "## Feature Engineering"
   ]
  },
  {
   "cell_type": "markdown",
   "id": "ec006849-e804-4758-8f8a-510270dfc433",
   "metadata": {},
   "source": [
    "#### Feature Extraction"
   ]
  },
  {
   "cell_type": "code",
   "execution_count": 12,
   "id": "de4c3a87-8bbb-46fc-abde-a8ee3b383ca5",
   "metadata": {},
   "outputs": [
    {
     "data": {
      "text/html": [
       "<div>\n",
       "<style scoped>\n",
       "    .dataframe tbody tr th:only-of-type {\n",
       "        vertical-align: middle;\n",
       "    }\n",
       "\n",
       "    .dataframe tbody tr th {\n",
       "        vertical-align: top;\n",
       "    }\n",
       "\n",
       "    .dataframe thead th {\n",
       "        text-align: right;\n",
       "    }\n",
       "</style>\n",
       "<table border=\"1\" class=\"dataframe\">\n",
       "  <thead>\n",
       "    <tr style=\"text-align: right;\">\n",
       "      <th></th>\n",
       "      <th>continent</th>\n",
       "      <th>education_of_employee</th>\n",
       "      <th>has_job_experience</th>\n",
       "      <th>requires_job_training</th>\n",
       "      <th>no_of_employees</th>\n",
       "      <th>yr_of_estab</th>\n",
       "      <th>region_of_employment</th>\n",
       "      <th>prevailing_wage</th>\n",
       "      <th>unit_of_wage</th>\n",
       "      <th>full_time_position</th>\n",
       "      <th>case_status</th>\n",
       "    </tr>\n",
       "  </thead>\n",
       "  <tbody>\n",
       "    <tr>\n",
       "      <th>0</th>\n",
       "      <td>Asia</td>\n",
       "      <td>High School</td>\n",
       "      <td>N</td>\n",
       "      <td>N</td>\n",
       "      <td>14513</td>\n",
       "      <td>2007</td>\n",
       "      <td>West</td>\n",
       "      <td>592.2029</td>\n",
       "      <td>Hour</td>\n",
       "      <td>Y</td>\n",
       "      <td>Denied</td>\n",
       "    </tr>\n",
       "    <tr>\n",
       "      <th>1</th>\n",
       "      <td>Asia</td>\n",
       "      <td>Master's</td>\n",
       "      <td>Y</td>\n",
       "      <td>N</td>\n",
       "      <td>2412</td>\n",
       "      <td>2002</td>\n",
       "      <td>Northeast</td>\n",
       "      <td>83425.6500</td>\n",
       "      <td>Year</td>\n",
       "      <td>Y</td>\n",
       "      <td>Certified</td>\n",
       "    </tr>\n",
       "    <tr>\n",
       "      <th>2</th>\n",
       "      <td>Asia</td>\n",
       "      <td>Bachelor's</td>\n",
       "      <td>N</td>\n",
       "      <td>Y</td>\n",
       "      <td>44444</td>\n",
       "      <td>2008</td>\n",
       "      <td>West</td>\n",
       "      <td>122996.8600</td>\n",
       "      <td>Year</td>\n",
       "      <td>Y</td>\n",
       "      <td>Denied</td>\n",
       "    </tr>\n",
       "    <tr>\n",
       "      <th>3</th>\n",
       "      <td>Asia</td>\n",
       "      <td>Bachelor's</td>\n",
       "      <td>N</td>\n",
       "      <td>N</td>\n",
       "      <td>98</td>\n",
       "      <td>1897</td>\n",
       "      <td>West</td>\n",
       "      <td>83434.0300</td>\n",
       "      <td>Year</td>\n",
       "      <td>Y</td>\n",
       "      <td>Denied</td>\n",
       "    </tr>\n",
       "    <tr>\n",
       "      <th>4</th>\n",
       "      <td>Africa</td>\n",
       "      <td>Master's</td>\n",
       "      <td>Y</td>\n",
       "      <td>N</td>\n",
       "      <td>1082</td>\n",
       "      <td>2005</td>\n",
       "      <td>South</td>\n",
       "      <td>149907.3900</td>\n",
       "      <td>Year</td>\n",
       "      <td>Y</td>\n",
       "      <td>Certified</td>\n",
       "    </tr>\n",
       "  </tbody>\n",
       "</table>\n",
       "</div>"
      ],
      "text/plain": [
       "  continent education_of_employee has_job_experience requires_job_training  \\\n",
       "0      Asia           High School                  N                     N   \n",
       "1      Asia              Master's                  Y                     N   \n",
       "2      Asia            Bachelor's                  N                     Y   \n",
       "3      Asia            Bachelor's                  N                     N   \n",
       "4    Africa              Master's                  Y                     N   \n",
       "\n",
       "   no_of_employees  yr_of_estab region_of_employment  prevailing_wage  \\\n",
       "0            14513         2007                 West         592.2029   \n",
       "1             2412         2002            Northeast       83425.6500   \n",
       "2            44444         2008                 West      122996.8600   \n",
       "3               98         1897                 West       83434.0300   \n",
       "4             1082         2005                South      149907.3900   \n",
       "\n",
       "  unit_of_wage full_time_position case_status  \n",
       "0         Hour                  Y      Denied  \n",
       "1         Year                  Y   Certified  \n",
       "2         Year                  Y      Denied  \n",
       "3         Year                  Y      Denied  \n",
       "4         Year                  Y   Certified  "
      ]
     },
     "execution_count": 12,
     "metadata": {},
     "output_type": "execute_result"
    }
   ],
   "source": [
    "df.head()"
   ]
  },
  {
   "cell_type": "code",
   "execution_count": 18,
   "id": "532e3b99-0958-4eb6-94b2-b11f2e532fc2",
   "metadata": {},
   "outputs": [
    {
     "data": {
      "text/plain": [
       "2024"
      ]
     },
     "execution_count": 18,
     "metadata": {},
     "output_type": "execute_result"
    }
   ],
   "source": [
    "# importing Date class from datetime module:\n",
    "from datetime import date\n",
    "\n",
    "# Creating the date object of today's date\n",
    "todays_date = date.today()\n",
    "current_year=todays_date.year\n",
    "current_year"
   ]
  },
  {
   "cell_type": "code",
   "execution_count": 19,
   "id": "92362b8d-57b4-4b0b-9ebb-37d7b2d709db",
   "metadata": {},
   "outputs": [],
   "source": [
    "# Substract the current year with the year_of_estb to get the age of the company\n",
    "\n",
    "df['company_age'] = current_year - df['yr_of_estab']"
   ]
  },
  {
   "cell_type": "code",
   "execution_count": 21,
   "id": "e42f67cd-2814-44b5-a181-848722256d90",
   "metadata": {},
   "outputs": [
    {
     "data": {
      "text/html": [
       "<div>\n",
       "<style scoped>\n",
       "    .dataframe tbody tr th:only-of-type {\n",
       "        vertical-align: middle;\n",
       "    }\n",
       "\n",
       "    .dataframe tbody tr th {\n",
       "        vertical-align: top;\n",
       "    }\n",
       "\n",
       "    .dataframe thead th {\n",
       "        text-align: right;\n",
       "    }\n",
       "</style>\n",
       "<table border=\"1\" class=\"dataframe\">\n",
       "  <thead>\n",
       "    <tr style=\"text-align: right;\">\n",
       "      <th></th>\n",
       "      <th>continent</th>\n",
       "      <th>education_of_employee</th>\n",
       "      <th>has_job_experience</th>\n",
       "      <th>requires_job_training</th>\n",
       "      <th>no_of_employees</th>\n",
       "      <th>yr_of_estab</th>\n",
       "      <th>region_of_employment</th>\n",
       "      <th>prevailing_wage</th>\n",
       "      <th>unit_of_wage</th>\n",
       "      <th>full_time_position</th>\n",
       "      <th>case_status</th>\n",
       "      <th>company_age</th>\n",
       "    </tr>\n",
       "  </thead>\n",
       "  <tbody>\n",
       "    <tr>\n",
       "      <th>0</th>\n",
       "      <td>Asia</td>\n",
       "      <td>High School</td>\n",
       "      <td>N</td>\n",
       "      <td>N</td>\n",
       "      <td>14513</td>\n",
       "      <td>2007</td>\n",
       "      <td>West</td>\n",
       "      <td>592.2029</td>\n",
       "      <td>Hour</td>\n",
       "      <td>Y</td>\n",
       "      <td>Denied</td>\n",
       "      <td>17</td>\n",
       "    </tr>\n",
       "    <tr>\n",
       "      <th>1</th>\n",
       "      <td>Asia</td>\n",
       "      <td>Master's</td>\n",
       "      <td>Y</td>\n",
       "      <td>N</td>\n",
       "      <td>2412</td>\n",
       "      <td>2002</td>\n",
       "      <td>Northeast</td>\n",
       "      <td>83425.6500</td>\n",
       "      <td>Year</td>\n",
       "      <td>Y</td>\n",
       "      <td>Certified</td>\n",
       "      <td>22</td>\n",
       "    </tr>\n",
       "    <tr>\n",
       "      <th>2</th>\n",
       "      <td>Asia</td>\n",
       "      <td>Bachelor's</td>\n",
       "      <td>N</td>\n",
       "      <td>Y</td>\n",
       "      <td>44444</td>\n",
       "      <td>2008</td>\n",
       "      <td>West</td>\n",
       "      <td>122996.8600</td>\n",
       "      <td>Year</td>\n",
       "      <td>Y</td>\n",
       "      <td>Denied</td>\n",
       "      <td>16</td>\n",
       "    </tr>\n",
       "    <tr>\n",
       "      <th>3</th>\n",
       "      <td>Asia</td>\n",
       "      <td>Bachelor's</td>\n",
       "      <td>N</td>\n",
       "      <td>N</td>\n",
       "      <td>98</td>\n",
       "      <td>1897</td>\n",
       "      <td>West</td>\n",
       "      <td>83434.0300</td>\n",
       "      <td>Year</td>\n",
       "      <td>Y</td>\n",
       "      <td>Denied</td>\n",
       "      <td>127</td>\n",
       "    </tr>\n",
       "    <tr>\n",
       "      <th>4</th>\n",
       "      <td>Africa</td>\n",
       "      <td>Master's</td>\n",
       "      <td>Y</td>\n",
       "      <td>N</td>\n",
       "      <td>1082</td>\n",
       "      <td>2005</td>\n",
       "      <td>South</td>\n",
       "      <td>149907.3900</td>\n",
       "      <td>Year</td>\n",
       "      <td>Y</td>\n",
       "      <td>Certified</td>\n",
       "      <td>19</td>\n",
       "    </tr>\n",
       "  </tbody>\n",
       "</table>\n",
       "</div>"
      ],
      "text/plain": [
       "  continent education_of_employee has_job_experience requires_job_training  \\\n",
       "0      Asia           High School                  N                     N   \n",
       "1      Asia              Master's                  Y                     N   \n",
       "2      Asia            Bachelor's                  N                     Y   \n",
       "3      Asia            Bachelor's                  N                     N   \n",
       "4    Africa              Master's                  Y                     N   \n",
       "\n",
       "   no_of_employees  yr_of_estab region_of_employment  prevailing_wage  \\\n",
       "0            14513         2007                 West         592.2029   \n",
       "1             2412         2002            Northeast       83425.6500   \n",
       "2            44444         2008                 West      122996.8600   \n",
       "3               98         1897                 West       83434.0300   \n",
       "4             1082         2005                South      149907.3900   \n",
       "\n",
       "  unit_of_wage full_time_position case_status  company_age  \n",
       "0         Hour                  Y      Denied           17  \n",
       "1         Year                  Y   Certified           22  \n",
       "2         Year                  Y      Denied           16  \n",
       "3         Year                  Y      Denied          127  \n",
       "4         Year                  Y   Certified           19  "
      ]
     },
     "execution_count": 21,
     "metadata": {},
     "output_type": "execute_result"
    }
   ],
   "source": [
    "df.head()"
   ]
  },
  {
   "cell_type": "code",
   "execution_count": 22,
   "id": "5e5cfb07-16c1-43e3-af39-9b25206aba35",
   "metadata": {},
   "outputs": [],
   "source": [
    "df.drop('yr_of_estab',axis=1,inplace=True)"
   ]
  },
  {
   "cell_type": "markdown",
   "id": "0ef7b033-2dc7-424f-a5ba-6a2efb15a20b",
   "metadata": {},
   "source": [
    "### Type of features"
   ]
  },
  {
   "cell_type": "markdown",
   "id": "50830314-b60f-4992-8a02-22dcba6f3198",
   "metadata": {},
   "source": [
    "### Numerical Features"
   ]
  },
  {
   "cell_type": "code",
   "execution_count": 23,
   "id": "1b7345e4-8628-4688-8edc-bda83c5f7034",
   "metadata": {},
   "outputs": [
    {
     "name": "stdout",
     "output_type": "stream",
     "text": [
      "Numbers of Numerical features: 3\n"
     ]
    }
   ],
   "source": [
    "num_features = [col for col in df.columns if df[col].dtype !=\"O\"]\n",
    "print(f\"Numbers of Numerical features: {len(num_features)}\")"
   ]
  },
  {
   "cell_type": "markdown",
   "id": "2033cd85-f5f9-4735-acb8-1c8a0b11024c",
   "metadata": {},
   "source": [
    "### Categorical Features"
   ]
  },
  {
   "cell_type": "code",
   "execution_count": 25,
   "id": "a9b3e5ab-41e1-4951-adb8-f520b26015ea",
   "metadata": {},
   "outputs": [
    {
     "name": "stdout",
     "output_type": "stream",
     "text": [
      "Numbers of Categorical features: 8\n"
     ]
    }
   ],
   "source": [
    "cat_features = [col for col in df.columns if df[col].dtype ==\"O\"]\n",
    "print(f\"Numbers of Categorical features: {len(cat_features)}\")"
   ]
  },
  {
   "cell_type": "markdown",
   "id": "674ca88f-e6e0-4c80-ae37-80168ea3bc26",
   "metadata": {},
   "source": [
    "### Discrete Features"
   ]
  },
  {
   "cell_type": "code",
   "execution_count": 29,
   "id": "f63b388b-11be-46f0-8315-ce7b56fd7d0f",
   "metadata": {},
   "outputs": [
    {
     "name": "stdout",
     "output_type": "stream",
     "text": [
      "Numbers of discrete features: 0\n"
     ]
    }
   ],
   "source": [
    "discrete_features = [col for col in num_features if df[col].nunique()<=25]\n",
    "print(f\"Numbers of discrete features: {len(discrete_features)}\")"
   ]
  },
  {
   "cell_type": "markdown",
   "id": "7f6e440b-66e0-42ed-880b-a245026eb5ee",
   "metadata": {},
   "source": [
    "### Continous Features"
   ]
  },
  {
   "cell_type": "code",
   "execution_count": 30,
   "id": "cff0eedc-d5a2-46d6-9cb2-ef18fe4cb22c",
   "metadata": {},
   "outputs": [
    {
     "name": "stdout",
     "output_type": "stream",
     "text": [
      "Numbers of continous features: 3\n"
     ]
    }
   ],
   "source": [
    "continous_features = [col for col in num_features if col not in discrete_features]\n",
    "print(f\"Numbers of continous features: {len(continous_features)}\")"
   ]
  },
  {
   "cell_type": "markdown",
   "id": "f9bfabfd-a66e-44f9-9dff-e4cc072f27ef",
   "metadata": {},
   "source": [
    "### Split data to `'X'` for Independent Variable and `'y'` for Dependent Variable"
   ]
  },
  {
   "cell_type": "code",
   "execution_count": 31,
   "id": "414b270d-3874-464e-abc3-be319fe9c6e3",
   "metadata": {},
   "outputs": [],
   "source": [
    "X = df.drop('case_status',axis=1)\n",
    "y = df['case_status']"
   ]
  },
  {
   "cell_type": "code",
   "execution_count": 32,
   "id": "f6ed9dd9-b7b5-4e79-bf8f-f7167010f4e6",
   "metadata": {},
   "outputs": [
    {
     "data": {
      "text/plain": [
       "0       Denied\n",
       "1    Certified\n",
       "2       Denied\n",
       "3       Denied\n",
       "4    Certified\n",
       "Name: case_status, dtype: object"
      ]
     },
     "execution_count": 32,
     "metadata": {},
     "output_type": "execute_result"
    }
   ],
   "source": [
    "y.head()"
   ]
  },
  {
   "cell_type": "markdown",
   "id": "6cde97aa-ca29-4b93-a53b-b8d64e86a387",
   "metadata": {},
   "source": [
    "#### Manual encoding target column"
   ]
  },
  {
   "cell_type": "code",
   "execution_count": 33,
   "id": "95436f6c-13f4-4de1-8c4e-7a3c1444d65b",
   "metadata": {},
   "outputs": [],
   "source": [
    "y = np.where(y=='Denied',1,0)"
   ]
  },
  {
   "cell_type": "code",
   "execution_count": 35,
   "id": "92179789-ad36-467c-ab08-77009c06c8fa",
   "metadata": {},
   "outputs": [
    {
     "data": {
      "text/plain": [
       "array([1, 0, 1, ..., 0, 0, 0])"
      ]
     },
     "execution_count": 35,
     "metadata": {},
     "output_type": "execute_result"
    }
   ],
   "source": [
    "y"
   ]
  },
  {
   "cell_type": "markdown",
   "id": "945f108b-844c-4e8a-9ef8-e7e52f67b0b6",
   "metadata": {},
   "source": [
    "### Feature Transformation"
   ]
  },
  {
   "cell_type": "code",
   "execution_count": 40,
   "id": "b895b888-d709-4334-84fb-2f4cc8578b20",
   "metadata": {},
   "outputs": [
    {
     "data": {
      "image/png": "[encoded data removed]",
      "text/plain": [
       "<Figure size 1500x1000 with 3 Axes>"
      ]
     },
     "metadata": {},
     "output_type": "display_data"
    }
   ],
   "source": [
    "plt.figure(figsize=(15,10))\n",
    "plt.suptitle(\"Univariate Analysis for numerical Features\",fontsize=20,fontweight='bold',alpha=0.8,y=1)\n",
    "\n",
    "for i in range(0,len(num_features)):\n",
    "    plt.subplot(2,2,i+1)\n",
    "    sns.histplot(x=df[num_features[i]],color='blue')\n",
    "    plt.xlabel(num_features[i])\n",
    "    plt.tight_layout()\n"
   ]
  },
  {
   "cell_type": "code",
   "execution_count": 42,
   "id": "468cd724-bdbc-491f-b126-f60cd9390b2b",
   "metadata": {},
   "outputs": [
    {
     "data": {
      "text/plain": [
       "no_of_employees    12.265260\n",
       "prevailing_wage     0.755776\n",
       "company_age         2.037301\n",
       "dtype: float64"
      ]
     },
     "execution_count": 42,
     "metadata": {},
     "output_type": "execute_result"
    }
   ],
   "source": [
    "X[continous_features].skew(skipna=True, axis=0)"
   ]
  },
  {
   "cell_type": "markdown",
   "id": "36b405b7-3396-485b-9ef1-2c6df943fea1",
   "metadata": {},
   "source": [
    "### Skewness and Transformers:"
   ]
  },
  {
   "cell_type": "markdown",
   "id": "87ac0b81-b551-479e-9a65-c0620c3bdac3",
   "metadata": {},
   "source": [
    "#### What is skewness?\n",
    "Skewness refers to a distortion or asymmetry that deviates from the symmetrical bell curve or normal distribution, in a set of data. If the curve is shifted to the left or to the right, it is said to be skewed. Skewness can be quantified as a representation of the extent to which a given distribution varies from a normal distribution. A Normal distribution has a skewness of zero. \n",
    "\n",
    "#### What are Transformers?\n",
    "Power transformers are a family of parametric, monotonic transformations applied to skewed data to make it more Gaussian-like. This is useful for tackling modelling issues related to heteroscedasticity or other situations requiring normalisation.\n",
    "\n",
    "Currently, transformation supports the Box-cox transformation and Yeo-Johnson transformation."
   ]
  },
  {
   "cell_type": "code",
   "execution_count": 44,
   "id": "c2a3dba8-696e-4983-81f7-b47d73ce8478",
   "metadata": {},
   "outputs": [],
   "source": [
    "from sklearn.preprocessing import PowerTransformer\n",
    "\n",
    "pt = PowerTransformer(method='yeo-johnson')\n",
    "powertransform_features = [\"no_of_employees\",\"company_age\"]\n",
    "X_copy = pt.fit_transform(X[powertransform_features])"
   ]
  },
  {
   "cell_type": "code",
   "execution_count": 46,
   "id": "7ea70663-27bb-4a8f-a9ee-519a8461597f",
   "metadata": {},
   "outputs": [
    {
     "data": {
      "text/html": [
       "<div>\n",
       "<style scoped>\n",
       "    .dataframe tbody tr th:only-of-type {\n",
       "        vertical-align: middle;\n",
       "    }\n",
       "\n",
       "    .dataframe tbody tr th {\n",
       "        vertical-align: top;\n",
       "    }\n",
       "\n",
       "    .dataframe thead th {\n",
       "        text-align: right;\n",
       "    }\n",
       "</style>\n",
       "<table border=\"1\" class=\"dataframe\">\n",
       "  <thead>\n",
       "    <tr style=\"text-align: right;\">\n",
       "      <th></th>\n",
       "      <th>no_of_employees</th>\n",
       "      <th>company_age</th>\n",
       "    </tr>\n",
       "  </thead>\n",
       "  <tbody>\n",
       "    <tr>\n",
       "      <th>0</th>\n",
       "      <td>1.517300</td>\n",
       "      <td>-0.952162</td>\n",
       "    </tr>\n",
       "    <tr>\n",
       "      <th>1</th>\n",
       "      <td>0.030912</td>\n",
       "      <td>-0.462942</td>\n",
       "    </tr>\n",
       "    <tr>\n",
       "      <th>2</th>\n",
       "      <td>2.885076</td>\n",
       "      <td>-1.075820</td>\n",
       "    </tr>\n",
       "    <tr>\n",
       "      <th>3</th>\n",
       "      <td>-1.343550</td>\n",
       "      <td>1.629178</td>\n",
       "    </tr>\n",
       "    <tr>\n",
       "      <th>4</th>\n",
       "      <td>-0.432287</td>\n",
       "      <td>-0.733953</td>\n",
       "    </tr>\n",
       "    <tr>\n",
       "      <th>...</th>\n",
       "      <td>...</td>\n",
       "      <td>...</td>\n",
       "    </tr>\n",
       "    <tr>\n",
       "      <th>25475</th>\n",
       "      <td>0.079917</td>\n",
       "      <td>-1.075820</td>\n",
       "    </tr>\n",
       "    <tr>\n",
       "      <th>25476</th>\n",
       "      <td>0.235747</td>\n",
       "      <td>-0.838640</td>\n",
       "    </tr>\n",
       "    <tr>\n",
       "      <th>25477</th>\n",
       "      <td>-0.413885</td>\n",
       "      <td>1.547445</td>\n",
       "    </tr>\n",
       "    <tr>\n",
       "      <th>25478</th>\n",
       "      <td>-0.111949</td>\n",
       "      <td>1.683834</td>\n",
       "    </tr>\n",
       "    <tr>\n",
       "      <th>25479</th>\n",
       "      <td>0.218742</td>\n",
       "      <td>1.022966</td>\n",
       "    </tr>\n",
       "  </tbody>\n",
       "</table>\n",
       "<p>25480 rows × 2 columns</p>\n",
       "</div>"
      ],
      "text/plain": [
       "       no_of_employees  company_age\n",
       "0             1.517300    -0.952162\n",
       "1             0.030912    -0.462942\n",
       "2             2.885076    -1.075820\n",
       "3            -1.343550     1.629178\n",
       "4            -0.432287    -0.733953\n",
       "...                ...          ...\n",
       "25475         0.079917    -1.075820\n",
       "25476         0.235747    -0.838640\n",
       "25477        -0.413885     1.547445\n",
       "25478        -0.111949     1.683834\n",
       "25479         0.218742     1.022966\n",
       "\n",
       "[25480 rows x 2 columns]"
      ]
     },
     "execution_count": 46,
     "metadata": {},
     "output_type": "execute_result"
    }
   ],
   "source": [
    "X_copy = pd.DataFrame(X_copy,columns=powertransform_features)\n",
    "X_copy"
   ]
  },
  {
   "cell_type": "code",
   "execution_count": 49,
   "id": "66841454-998c-4cdf-81d4-5b4841d787fb",
   "metadata": {},
   "outputs": [
    {
     "data": {
      "image/png": "[encoded data removed]",
      "text/plain": [
       "<Figure size 1200x500 with 2 Axes>"
      ]
     },
     "metadata": {},
     "output_type": "display_data"
    }
   ],
   "source": [
    "plt.figure(figsize=(12,5))\n",
    "for i,col in enumerate(powertransform_features):\n",
    "    plt.subplot(1,2,i+1)\n",
    "    sns.histplot(data=X_copy,x=col,color='indianred',kde=True)\n",
    "    plt.xlabel(col)\n",
    "    plt.tight_layout()"
   ]
  },
  {
   "cell_type": "code",
   "execution_count": 50,
   "id": "75d839d4-5a4b-4067-8238-c22d200e00be",
   "metadata": {},
   "outputs": [
    {
     "data": {
      "text/plain": [
       "no_of_employees    0.399339\n",
       "company_age        0.103264\n",
       "dtype: float64"
      ]
     },
     "execution_count": 50,
     "metadata": {},
     "output_type": "execute_result"
    }
   ],
   "source": [
    "X_copy.skew()"
   ]
  },
  {
   "cell_type": "code",
   "execution_count": null,
   "id": "87914a91-4ac6-4fe8-8c35-138f25ffb637",
   "metadata": {},
   "outputs": [],
   "source": []
  },
  {
   "cell_type": "markdown",
   "id": "c2981fc3-77cc-4047-a6de-0bf53c9c7e71",
   "metadata": {},
   "source": [
    "## Feature Encoding and Scaling"
   ]
  },
  {
   "cell_type": "markdown",
   "id": "08e4ecb7-26ea-4987-96ce-b0432ba43a6e",
   "metadata": {},
   "source": [
    "#### One Hot encoding for columns which has lesser unique values and also not oridinal.\n",
    "\n",
    "* One hot encoding is the process by which categorical variables are converted into a form that could be provided to ML algorithm to do a better job in prediction.\n",
    "\n",
    "#### Ordinal encoding for columns which has many unique categories\n",
    "\n",
    "* Oridinal encoding is used here as label encoder is supported for column transformer.\n",
    "* Oridinal encoding is used for Ordinal Variable. Variable comprises a finite set of discrete values with a ranked ordering between values.\n",
    "\n",
    "#### Standard Scaler\n",
    "\n",
    "* Standardize features by removing the mean and scaling to unit variance"
   ]
  },
  {
   "cell_type": "code",
   "execution_count": 62,
   "id": "ae7f2f09-9b75-4e87-ae02-5be8cad11ebf",
   "metadata": {},
   "outputs": [],
   "source": [
    "num_features = list(X.select_dtypes(exclude=\"object\").columns)"
   ]
  },
  {
   "cell_type": "code",
   "execution_count": 64,
   "id": "2c48bdbd-5700-441f-8b26-79cbcf56b2fe",
   "metadata": {},
   "outputs": [
    {
     "data": {
      "text/plain": [
       "['no_of_employees', 'prevailing_wage', 'company_age']"
      ]
     },
     "execution_count": 64,
     "metadata": {},
     "output_type": "execute_result"
    }
   ],
   "source": [
    "num_features"
   ]
  },
  {
   "cell_type": "markdown",
   "id": "70c09204-5e7e-4d0a-91d9-26382f19e274",
   "metadata": {},
   "source": [
    "## Preprocessing using Column Transformer"
   ]
  },
  {
   "cell_type": "code",
   "execution_count": 68,
   "id": "c3307f9d-c7c9-4695-937e-36215de53c69",
   "metadata": {},
   "outputs": [],
   "source": [
    "# Create Column transformer with 3 types of transformers:\n",
    "or_columns = [\"has_job_experience\",\"requires_job_training\",\"full_time_position\",\"education_of_employee\"]\n",
    "oh_columns = [\"continent\",\"unit_of_wage\",\"region_of_employment\"]\n"
   ]
  },
  {
   "cell_type": "code",
   "execution_count": 70,
   "id": "0c702620-b311-42ff-982b-249036cfee36",
   "metadata": {},
   "outputs": [],
   "source": [
    "from sklearn.preprocessing import OneHotEncoder,StandardScaler,OrdinalEncoder,PowerTransformer\n",
    "from sklearn.compose import ColumnTransformer\n",
    "from sklearn.pipeline import Pipeline\n",
    "\n",
    "numeric_transformer = StandardScaler()\n",
    "ohe_transformer = OneHotEncoder()\n",
    "ordinal_transformer = OrdinalEncoder()\n",
    "power_transformer = PowerTransformer()\n",
    "\n",
    "preprocessor = ColumnTransformer(\n",
    "    [\n",
    "        ('OneHotencoder',ohe_transformer,oh_columns),\n",
    "        ('OrdinalEncoder',ordinal_transformer,or_columns),\n",
    "        ('power_transformer',power_transformer,powertransform_features),\n",
    "        ('StandardScaler',numeric_transformer,num_features)\n",
    "    ]\n",
    ")"
   ]
  },
  {
   "cell_type": "code",
   "execution_count": 72,
   "id": "2f67941e-dc4a-4187-aa6a-37cf1b29cd4b",
   "metadata": {},
   "outputs": [],
   "source": [
    "\n",
    "X = preprocessor.fit_transform(X)"
   ]
  },
  {
   "cell_type": "code",
   "execution_count": 73,
   "id": "8533372c-b84f-48f6-aa0f-2b74927a45d0",
   "metadata": {},
   "outputs": [
    {
     "data": {
      "text/plain": [
       "array([[ 0.        ,  1.        ,  0.        , ...,  0.38666657,\n",
       "        -1.39853722, -0.65122993],\n",
       "       [ 0.        ,  1.        ,  0.        , ..., -0.14228155,\n",
       "         0.1698353 , -0.53321103],\n",
       "       [ 0.        ,  1.        ,  0.        , ...,  1.69498375,\n",
       "         0.91907852, -0.6748337 ],\n",
       "       ...,\n",
       "       [ 0.        ,  1.        ,  0.        , ..., -0.19871259,\n",
       "         1.36027953,  1.63833662],\n",
       "       [ 0.        ,  1.        ,  0.        , ..., -0.16387483,\n",
       "         0.22150859,  2.18122353],\n",
       "       [ 0.        ,  1.        ,  0.        , ..., -0.10805575,\n",
       "        -0.06776315,  0.45814768]])"
      ]
     },
     "execution_count": 73,
     "metadata": {},
     "output_type": "execute_result"
    }
   ],
   "source": [
    "X"
   ]
  },
  {
   "cell_type": "markdown",
   "id": "679fe37d-4852-42ac-8e43-ba9a512aeb40",
   "metadata": {},
   "source": [
    "## Handle Imbalanced Problem for classification problem"
   ]
  },
  {
   "cell_type": "code",
   "execution_count": 76,
   "id": "558c799c-f477-464b-899a-387206670eb4",
   "metadata": {},
   "outputs": [],
   "source": [
    "from imblearn.combine import SMOTETomek,SMOTEENN\n",
    "\n",
    "# Resampling the minority class. The strategy can be changed as required.\n",
    "smt = SMOTEENN(sampling_strategy='minority',random_state=42)\n",
    "\n",
    "# Fit the model and generate the data.\n",
    "X_res, y_res = smt.fit_resample(X,y)"
   ]
  },
  {
   "cell_type": "markdown",
   "id": "a5234e58-106a-4c93-8682-ff93198793f1",
   "metadata": {},
   "source": [
    "## Train Test Split"
   ]
  },
  {
   "cell_type": "code",
   "execution_count": 77,
   "id": "1a693e95-c16a-4220-b4a4-3fa5c118055b",
   "metadata": {},
   "outputs": [
    {
     "data": {
      "text/plain": [
       "((13638, 24), (3410, 24))"
      ]
     },
     "execution_count": 77,
     "metadata": {},
     "output_type": "execute_result"
    }
   ],
   "source": [
    "from sklearn.model_selection import train_test_split\n",
    "X_train,X_test,y_train,y_test = train_test_split(X_res,y_res,test_size=0.2,random_state=42)\n",
    "\n",
    "X_train.shape,X_test.shape"
   ]
  },
  {
   "cell_type": "markdown",
   "id": "3b63b770-c5d5-41ae-9d13-caca9b6acbc2",
   "metadata": {},
   "source": [
    "# Model Training"
   ]
  },
  {
   "cell_type": "code",
   "execution_count": 99,
   "id": "d8f2a1bc-6756-4ff0-ac1f-b0bc25149509",
   "metadata": {},
   "outputs": [],
   "source": [
    "from sklearn.ensemble import RandomForestClassifier,AdaBoostClassifier,GradientBoostingClassifier\n",
    "from sklearn.linear_model import LogisticRegression\n",
    "from sklearn.tree import DecisionTreeClassifier\n",
    "from sklearn.neighbors import KNeighborsClassifier\n",
    "from sklearn.svm import SVC\n",
    "from sklearn.naive_bayes import GaussianNB\n",
    "from sklearn.metrics import accuracy_score,classification_report,confusion_matrix,precision_score,recall_score,roc_auc_score,roc_curve,f1_score\n",
    "\n",
    "from xgboost import XGBClassifier\n",
    "from catboost import CatBoostClassifier"
   ]
  },
  {
   "cell_type": "code",
   "execution_count": 100,
   "id": "c8438bb8-ab98-401f-85a1-561cc3ff44e8",
   "metadata": {},
   "outputs": [],
   "source": [
    "def evaluate_classifier(true,predicted):\n",
    "    acc = accuracy_score(true,predicted) # Calculate Accuracy\n",
    "    f1 = f1_score(true,predicted) # Calculate f1\n",
    "    precision = precision_score(true,predicted) # Calculate precision\n",
    "    recall = recall_score(true,predicted) # Calculate recall\n",
    "    roc_auc = roc_auc_score(true,predicted) # Calculate roc_auc\n",
    "    return acc,f1,precision,recall,roc_auc"
   ]
  },
  {
   "cell_type": "code",
   "execution_count": 101,
   "id": "1d991fe2-3551-4ba2-a6c5-c5a554634594",
   "metadata": {},
   "outputs": [],
   "source": [
    "models = {\n",
    "    \"Random Forest\" : RandomForestClassifier(),\n",
    "    \"Decision Tree\" : DecisionTreeClassifier(),\n",
    "    \"Gradient Boosting\" : GradientBoostingClassifier(),\n",
    "    \"Logistic Regression\" : LogisticRegression(),\n",
    "    \"K-Nearest Neighbour\" : KNeighborsClassifier(),\n",
    "    \"XGBClassifier\" : XGBClassifier(),\n",
    "    \"Cat Boosting Classifier\" : CatBoostClassifier(verbose=False),\n",
    "    \"Support Vector Classifier\" : SVC(),\n",
    "    \"AdaBoost Classifier\" : AdaBoostClassifier(),\n",
    "    \"Naive Bayes Classifier\" : GaussianNB()\n",
    "}"
   ]
  },
  {
   "cell_type": "code",
   "execution_count": 105,
   "id": "8c91f59b-24b4-40bd-8c1c-23f4034406ea",
   "metadata": {},
   "outputs": [],
   "source": [
    "def evaluate_models(X,y,models):\n",
    "    \n",
    "    '''\n",
    "    This function takes in X and y and models in dictionary format as input.\n",
    "    It splits the data into Train Test split.\n",
    "    Iterates through the given model dictionary and evaluates the matrics.\n",
    "    Returns: DataFrame which contains report of all the models metrics with cost\n",
    "    '''\n",
    "    # Seperate the dataset into train and test.\n",
    "    X_train,X_test,y_train,y_test = train_test_split(X,y,test_size=0.2, random_state=42)\n",
    "\n",
    "    models_list = []\n",
    "    accuracy_list = []\n",
    "    auc = []\n",
    "\n",
    "    # Training model\n",
    "    for i in range(len(list(models))):\n",
    "        model = list(models.values())[i]\n",
    "        model.fit(X_train,y_train) # Training model\n",
    "\n",
    "        # Make Predictions\n",
    "        y_train_pred = model.predict(X_train)\n",
    "        y_test_pred = model.predict(X_test)\n",
    "    \n",
    "    \n",
    "        # Training set performance\n",
    "        model_train_accuracy , model_train_f1 , model_train_precision , model_train_recall , model_train_roc_auc_score= evaluate_classifier(y_train, y_train_pred)\n",
    "        \n",
    "        # Testing set performance\n",
    "        model_test_accuracy , model_test_f1 , model_test_precision , model_test_recall , model_test_roc_auc_score= evaluate_classifier(y_test, y_test_pred)\n",
    "    \n",
    "        print(list(models.keys())[i])\n",
    "        models_list.append((list(models.keys())[i]))\n",
    "    \n",
    "        print(\"Model performance for training set\")\n",
    "        print(f\"- Accuracy: {model_train_accuracy:.4f}\")    \n",
    "        print(f\"- f1 score: {model_train_f1:.4f}\")    \n",
    "        print(f\"- Precision: {model_train_precision:.4f}\")    \n",
    "        print(f\"- Recall: {model_train_recall:.4f}\")    \n",
    "        print(f\"- roc auc score: {model_train_roc_auc_score:.4f}\")    \n",
    "    \n",
    "        print(\"-------------------------------------\")\n",
    "    \n",
    "        print(\"Model performance for testing set\")\n",
    "        print(f\"- Accuracy: {model_test_accuracy:.4f}\") \n",
    "        accuracy_list.append(model_test_accuracy)\n",
    "        print(f\"- f1 score: {model_test_f1:.4f}\")    \n",
    "        print(f\"- Precision: {model_test_precision:.4f}\")    \n",
    "        print(f\"- Recall: {model_test_recall:.4f}\")    \n",
    "        print(f\"- roc auc score: {model_test_roc_auc_score:.4f}\")\n",
    "        auc.append(model_test_roc_auc_score)\n",
    "        print('='*35)\n",
    "        print('\\n')\n",
    "    \n",
    "    report=pd.DataFrame(list(zip(models_list,accuracy_list)),columns=[\"Model Name\",\"Accuracy\"]).sort_values(by=['Accuracy'],ascending=False)\n",
    "    return report\n",
    "\n"
   ]
  },
  {
   "cell_type": "code",
   "execution_count": 106,
   "id": "63eb4897-c8ff-4de2-ba1a-239ba41ccca6",
   "metadata": {},
   "outputs": [
    {
     "name": "stdout",
     "output_type": "stream",
     "text": [
      "Random Forest\n",
      "Model performance for training set\n",
      "- Accuracy: 1.0000\n",
      "- f1 score: 1.0000\n",
      "- Precision: 1.0000\n",
      "- Recall: 1.0000\n",
      "- roc auc score: 1.0000\n",
      "-------------------------------------\n",
      "Model performance for testing set\n",
      "- Accuracy: 0.9554\n",
      "- f1 score: 0.9590\n",
      "- Precision: 0.9569\n",
      "- Recall: 0.9611\n",
      "- roc auc score: 0.9549\n",
      "===================================\n",
      "\n",
      "\n",
      "Decision Tree\n",
      "Model performance for training set\n",
      "- Accuracy: 1.0000\n",
      "- f1 score: 1.0000\n",
      "- Precision: 1.0000\n",
      "- Recall: 1.0000\n",
      "- roc auc score: 1.0000\n",
      "-------------------------------------\n",
      "Model performance for testing set\n",
      "- Accuracy: 0.9258\n",
      "- f1 score: 0.9318\n",
      "- Precision: 0.9286\n",
      "- Recall: 0.9351\n",
      "- roc auc score: 0.9249\n",
      "===================================\n",
      "\n",
      "\n",
      "Gradient Boosting\n",
      "Model performance for training set\n",
      "- Accuracy: 0.8822\n",
      "- f1 score: 0.8903\n",
      "- Precision: 0.8945\n",
      "- Recall: 0.8862\n",
      "- roc auc score: 0.8819\n",
      "-------------------------------------\n",
      "Model performance for testing set\n",
      "- Accuracy: 0.8956\n",
      "- f1 score: 0.9031\n",
      "- Precision: 0.9095\n",
      "- Recall: 0.8967\n",
      "- roc auc score: 0.8955\n",
      "===================================\n",
      "\n",
      "\n",
      "Logistic Regression\n",
      "Model performance for training set\n",
      "- Accuracy: 0.7346\n",
      "- f1 score: 0.7498\n",
      "- Precision: 0.7624\n",
      "- Recall: 0.7377\n",
      "- roc auc score: 0.7343\n",
      "-------------------------------------\n",
      "Model performance for testing set\n",
      "- Accuracy: 0.7449\n",
      "- f1 score: 0.7590\n",
      "- Precision: 0.7780\n",
      "- Recall: 0.7409\n",
      "- roc auc score: 0.7452\n",
      "===================================\n",
      "\n",
      "\n",
      "K-Nearest Neighbour\n",
      "Model performance for training set\n",
      "- Accuracy: 0.9636\n",
      "- f1 score: 0.9667\n",
      "- Precision: 0.9553\n",
      "- Recall: 0.9784\n",
      "- roc auc score: 0.9624\n",
      "-------------------------------------\n",
      "Model performance for testing set\n",
      "- Accuracy: 0.9402\n",
      "- f1 score: 0.9457\n",
      "- Precision: 0.9318\n",
      "- Recall: 0.9600\n",
      "- roc auc score: 0.9383\n",
      "===================================\n",
      "\n",
      "\n",
      "XGBClassifier\n",
      "Model performance for training set\n",
      "- Accuracy: 0.9809\n",
      "- f1 score: 0.9823\n",
      "- Precision: 0.9825\n",
      "- Recall: 0.9821\n",
      "- roc auc score: 0.9808\n",
      "-------------------------------------\n",
      "Model performance for testing set\n",
      "- Accuracy: 0.9352\n",
      "- f1 score: 0.9400\n",
      "- Precision: 0.9443\n",
      "- Recall: 0.9356\n",
      "- roc auc score: 0.9351\n",
      "===================================\n",
      "\n",
      "\n",
      "Cat Boosting Classifier\n",
      "Model performance for training set\n",
      "- Accuracy: 0.9527\n",
      "- f1 score: 0.9559\n",
      "- Precision: 0.9614\n",
      "- Recall: 0.9505\n",
      "- roc auc score: 0.9529\n",
      "-------------------------------------\n",
      "Model performance for testing set\n",
      "- Accuracy: 0.9296\n",
      "- f1 score: 0.9342\n",
      "- Precision: 0.9472\n",
      "- Recall: 0.9216\n",
      "- roc auc score: 0.9304\n",
      "===================================\n",
      "\n",
      "\n",
      "Support Vector Classifier\n",
      "Model performance for training set\n",
      "- Accuracy: 0.8716\n",
      "- f1 score: 0.8808\n",
      "- Precision: 0.8818\n",
      "- Recall: 0.8798\n",
      "- roc auc score: 0.8709\n",
      "-------------------------------------\n",
      "Model performance for testing set\n",
      "- Accuracy: 0.8701\n",
      "- f1 score: 0.8802\n",
      "- Precision: 0.8800\n",
      "- Recall: 0.8805\n",
      "- roc auc score: 0.8691\n",
      "===================================\n",
      "\n",
      "\n",
      "AdaBoost Classifier\n",
      "Model performance for training set\n",
      "- Accuracy: 0.8539\n",
      "- f1 score: 0.8636\n",
      "- Precision: 0.8696\n",
      "- Recall: 0.8576\n",
      "- roc auc score: 0.8535\n",
      "-------------------------------------\n",
      "Model performance for testing set\n",
      "- Accuracy: 0.8683\n",
      "- f1 score: 0.8774\n",
      "- Precision: 0.8863\n",
      "- Recall: 0.8686\n",
      "- roc auc score: 0.8683\n",
      "===================================\n",
      "\n",
      "\n",
      "Naive Bayes Classifier\n",
      "Model performance for training set\n",
      "- Accuracy: 0.6406\n",
      "- f1 score: 0.5393\n",
      "- Precision: 0.8734\n",
      "- Recall: 0.3901\n",
      "- roc auc score: 0.6620\n",
      "-------------------------------------\n",
      "Model performance for testing set\n",
      "- Accuracy: 0.6443\n",
      "- f1 score: 0.5462\n",
      "- Precision: 0.8859\n",
      "- Recall: 0.3948\n",
      "- roc auc score: 0.6673\n",
      "===================================\n",
      "\n",
      "\n"
     ]
    }
   ],
   "source": [
    "base_model_report = evaluate_models(X=X_res, y=y_res,models=models)"
   ]
  },
  {
   "cell_type": "code",
   "execution_count": 107,
   "id": "4d4872c2-8873-4c37-bd97-c2bdbe15b355",
   "metadata": {},
   "outputs": [
    {
     "data": {
      "text/html": [
       "<div>\n",
       "<style scoped>\n",
       "    .dataframe tbody tr th:only-of-type {\n",
       "        vertical-align: middle;\n",
       "    }\n",
       "\n",
       "    .dataframe tbody tr th {\n",
       "        vertical-align: top;\n",
       "    }\n",
       "\n",
       "    .dataframe thead th {\n",
       "        text-align: right;\n",
       "    }\n",
       "</style>\n",
       "<table border=\"1\" class=\"dataframe\">\n",
       "  <thead>\n",
       "    <tr style=\"text-align: right;\">\n",
       "      <th></th>\n",
       "      <th>Model Name</th>\n",
       "      <th>Accuracy</th>\n",
       "    </tr>\n",
       "  </thead>\n",
       "  <tbody>\n",
       "    <tr>\n",
       "      <th>0</th>\n",
       "      <td>Random Forest</td>\n",
       "      <td>0.955425</td>\n",
       "    </tr>\n",
       "    <tr>\n",
       "      <th>4</th>\n",
       "      <td>K-Nearest Neighbour</td>\n",
       "      <td>0.940176</td>\n",
       "    </tr>\n",
       "    <tr>\n",
       "      <th>5</th>\n",
       "      <td>XGBClassifier</td>\n",
       "      <td>0.935191</td>\n",
       "    </tr>\n",
       "    <tr>\n",
       "      <th>6</th>\n",
       "      <td>Cat Boosting Classifier</td>\n",
       "      <td>0.929619</td>\n",
       "    </tr>\n",
       "    <tr>\n",
       "      <th>1</th>\n",
       "      <td>Decision Tree</td>\n",
       "      <td>0.925806</td>\n",
       "    </tr>\n",
       "    <tr>\n",
       "      <th>2</th>\n",
       "      <td>Gradient Boosting</td>\n",
       "      <td>0.895601</td>\n",
       "    </tr>\n",
       "    <tr>\n",
       "      <th>7</th>\n",
       "      <td>Support Vector Classifier</td>\n",
       "      <td>0.870088</td>\n",
       "    </tr>\n",
       "    <tr>\n",
       "      <th>8</th>\n",
       "      <td>AdaBoost Classifier</td>\n",
       "      <td>0.868328</td>\n",
       "    </tr>\n",
       "    <tr>\n",
       "      <th>3</th>\n",
       "      <td>Logistic Regression</td>\n",
       "      <td>0.744868</td>\n",
       "    </tr>\n",
       "    <tr>\n",
       "      <th>9</th>\n",
       "      <td>Naive Bayes Classifier</td>\n",
       "      <td>0.644282</td>\n",
       "    </tr>\n",
       "  </tbody>\n",
       "</table>\n",
       "</div>"
      ],
      "text/plain": [
       "                  Model Name  Accuracy\n",
       "0              Random Forest  0.955425\n",
       "4        K-Nearest Neighbour  0.940176\n",
       "5              XGBClassifier  0.935191\n",
       "6    Cat Boosting Classifier  0.929619\n",
       "1              Decision Tree  0.925806\n",
       "2          Gradient Boosting  0.895601\n",
       "7  Support Vector Classifier  0.870088\n",
       "8        AdaBoost Classifier  0.868328\n",
       "3        Logistic Regression  0.744868\n",
       "9     Naive Bayes Classifier  0.644282"
      ]
     },
     "execution_count": 107,
     "metadata": {},
     "output_type": "execute_result"
    }
   ],
   "source": [
    "base_model_report"
   ]
  },
  {
   "cell_type": "markdown",
   "id": "af962311-8ee5-41e3-8bf7-f27bc3f0dc63",
   "metadata": {},
   "source": [
    "### Here we can use few best models and perform Hyper Parameter tuning"
   ]
  },
  {
   "cell_type": "code",
   "execution_count": 108,
   "id": "c7db6ec4-345f-424e-b954-48ddf8305759",
   "metadata": {},
   "outputs": [],
   "source": [
    "# Initialize few parameter for Hyperparameter tuning\n",
    "# XGBoost parameters\n",
    "xgboost_params = {\n",
    "    'max_dept': range(3,10,2),\n",
    "    'min_child_weight': range(1,6,2)\n",
    "}\n",
    "\n",
    "# Random Forest Parameters\n",
    "rf_params = {\n",
    "    \"max_depth\": [10,12,None,15,20],\n",
    "    \"max_features\": ['sqrt','log2',None],\n",
    "    \"n_estimators\":[10,50,100,200]\n",
    "}\n",
    "\n",
    "# KNN paramenters\n",
    "knn_params = {\n",
    "    \"algorithm\":[\"auto\",\"ball_tree\",\"kd_tree\",\"brute\"],\n",
    "    \"weights\": ['uniform','distance'],\n",
    "    \"n_neighbors\": [3,4,5,7,9]\n",
    "}\n"
   ]
  },
  {
   "cell_type": "code",
   "execution_count": 110,
   "id": "cbeb9399-fbdc-4d2d-84af-3f88f67a2021",
   "metadata": {},
   "outputs": [],
   "source": [
    "# Models list for Hyperparameter tuning\n",
    "randomcv_model = [\n",
    "    ('XGBoost',XGBClassifier(),xgboost_params),\n",
    "    ('RForest',RandomForestClassifier(),rf_params),\n",
    "    ('KNN',KNeighborsClassifier(),knn_params),\n",
    "]"
   ]
  },
  {
   "cell_type": "markdown",
   "id": "4989faa1-fffc-47f4-9fd4-aba592ce6b11",
   "metadata": {},
   "source": [
    "### Create a function for model training and report which can be used in hyperparameter tuning loop"
   ]
  },
  {
   "cell_type": "code",
   "execution_count": 111,
   "id": "89550697-2e39-43f1-9cf7-8bd6bac4792c",
   "metadata": {},
   "outputs": [
    {
     "name": "stdout",
     "output_type": "stream",
     "text": [
      "Fitting 3 folds for each of 12 candidates, totalling 36 fits\n",
      "Fitting 3 folds for each of 60 candidates, totalling 180 fits\n",
      "Fitting 3 folds for each of 40 candidates, totalling 120 fits\n",
      "------------------ BEST PARAMS FOR XGBoost ------------------------------\n",
      "{'min_child_weight': 1, 'max_dept': 3}\n",
      "------------------ BEST PARAMS FOR RForest ------------------------------\n",
      "{'n_estimators': 200, 'max_features': 'log2', 'max_depth': None}\n",
      "------------------ BEST PARAMS FOR KNN ------------------------------\n",
      "{'weights': 'distance', 'n_neighbors': 4, 'algorithm': 'auto'}\n"
     ]
    }
   ],
   "source": [
    "from sklearn.model_selection import RandomizedSearchCV\n",
    "\n",
    "model_param  = {}\n",
    "\n",
    "for name,model, params in randomcv_model:\n",
    "    random = RandomizedSearchCV(estimator=model,param_distributions=params,n_iter=100,cv=3,verbose=2, n_jobs=-1)\n",
    "    random.fit(X_res,y_res)\n",
    "    model_param[name] = random.best_params_\n",
    "\n",
    "for model_name in model_param:\n",
    "    print(f\"------------------ BEST PARAMS FOR {model_name} ------------------------------\")\n",
    "    print(model_param[model_name])"
   ]
  },
  {
   "cell_type": "code",
   "execution_count": 112,
   "id": "89dfbe5a-04ba-4a7c-b79e-b36272418afb",
   "metadata": {},
   "outputs": [
    {
     "data": {
      "text/plain": [
       "{'XGBoost': {'min_child_weight': 1, 'max_dept': 3},\n",
       " 'RForest': {'n_estimators': 200, 'max_features': 'log2', 'max_depth': None},\n",
       " 'KNN': {'weights': 'distance', 'n_neighbors': 4, 'algorithm': 'auto'}}"
      ]
     },
     "execution_count": 112,
     "metadata": {},
     "output_type": "execute_result"
    }
   ],
   "source": [
    "model_param"
   ]
  },
  {
   "cell_type": "markdown",
   "id": "7116b18b-5e71-4151-8f19-b57ddab9b7fe",
   "metadata": {},
   "source": [
    "## Retraining the model with best parameters"
   ]
  },
  {
   "cell_type": "code",
   "execution_count": 116,
   "id": "ba4ac54e-b6ae-4d53-a1da-7193d385c950",
   "metadata": {},
   "outputs": [
    {
     "name": "stdout",
     "output_type": "stream",
     "text": [
      "Random Forest Classifier\n",
      "Model performance for training set\n",
      "- Accuracy: 1.0000\n",
      "- f1 score: 1.0000\n",
      "- Precision: 1.0000\n",
      "- Recall: 1.0000\n",
      "- roc auc score: 1.0000\n",
      "-------------------------------------\n",
      "Model performance for testing set\n",
      "- Accuracy: 0.9575\n",
      "- f1 score: 0.9609\n",
      "- Precision: 0.9586\n",
      "- Recall: 0.9632\n",
      "- roc auc score: 0.9569\n",
      "===================================\n",
      "\n",
      "\n",
      "KNeighbors Classifier\n",
      "Model performance for training set\n",
      "- Accuracy: 1.0000\n",
      "- f1 score: 1.0000\n",
      "- Precision: 1.0000\n",
      "- Recall: 1.0000\n",
      "- roc auc score: 1.0000\n",
      "-------------------------------------\n",
      "Model performance for testing set\n",
      "- Accuracy: 0.9733\n",
      "- f1 score: 0.9757\n",
      "- Precision: 0.9651\n",
      "- Recall: 0.9865\n",
      "- roc auc score: 0.9721\n",
      "===================================\n",
      "\n",
      "\n",
      "XGB Classifier\n",
      "Model performance for training set\n",
      "- Accuracy: 0.9809\n",
      "- f1 score: 0.9823\n",
      "- Precision: 0.9825\n",
      "- Recall: 0.9821\n",
      "- roc auc score: 0.9808\n",
      "-------------------------------------\n",
      "Model performance for testing set\n",
      "- Accuracy: 0.9352\n",
      "- f1 score: 0.9400\n",
      "- Precision: 0.9443\n",
      "- Recall: 0.9356\n",
      "- roc auc score: 0.9351\n",
      "===================================\n",
      "\n",
      "\n"
     ]
    }
   ],
   "source": [
    "from sklearn.metrics import roc_auc_score,roc_curve\n",
    "best_models={\n",
    "    \"Random Forest Classifier\": RandomForestClassifier(**model_param[\"RForest\"]),\n",
    "    \"KNeighbors Classifier\": KNeighborsClassifier(**model_param[\"KNN\"]),\n",
    "    \"XGB Classifier\": XGBClassifier(**model_param[\"XGBoost\"],n_jobs=-1)\n",
    "}\n",
    "\n",
    "tuned_report = evaluate_models(X_res,y_res,models=best_models)"
   ]
  },
  {
   "cell_type": "code",
   "execution_count": 117,
   "id": "99712d70-0024-4da2-b3a0-ac39ec83d3ce",
   "metadata": {},
   "outputs": [
    {
     "data": {
      "text/html": [
       "<div>\n",
       "<style scoped>\n",
       "    .dataframe tbody tr th:only-of-type {\n",
       "        vertical-align: middle;\n",
       "    }\n",
       "\n",
       "    .dataframe tbody tr th {\n",
       "        vertical-align: top;\n",
       "    }\n",
       "\n",
       "    .dataframe thead th {\n",
       "        text-align: right;\n",
       "    }\n",
       "</style>\n",
       "<table border=\"1\" class=\"dataframe\">\n",
       "  <thead>\n",
       "    <tr style=\"text-align: right;\">\n",
       "      <th></th>\n",
       "      <th>Model Name</th>\n",
       "      <th>Accuracy</th>\n",
       "    </tr>\n",
       "  </thead>\n",
       "  <tbody>\n",
       "    <tr>\n",
       "      <th>1</th>\n",
       "      <td>KNeighbors Classifier</td>\n",
       "      <td>0.973314</td>\n",
       "    </tr>\n",
       "    <tr>\n",
       "      <th>0</th>\n",
       "      <td>Random Forest Classifier</td>\n",
       "      <td>0.957478</td>\n",
       "    </tr>\n",
       "    <tr>\n",
       "      <th>2</th>\n",
       "      <td>XGB Classifier</td>\n",
       "      <td>0.935191</td>\n",
       "    </tr>\n",
       "  </tbody>\n",
       "</table>\n",
       "</div>"
      ],
      "text/plain": [
       "                 Model Name  Accuracy\n",
       "1     KNeighbors Classifier  0.973314\n",
       "0  Random Forest Classifier  0.957478\n",
       "2            XGB Classifier  0.935191"
      ]
     },
     "execution_count": 117,
     "metadata": {},
     "output_type": "execute_result"
    }
   ],
   "source": [
    "tuned_report"
   ]
  },
  {
   "cell_type": "code",
   "execution_count": 119,
   "id": "5fedf6f8-89e1-40cf-af9d-207380e33b62",
   "metadata": {},
   "outputs": [
    {
     "name": "stdout",
     "output_type": "stream",
     "text": [
      "FINAL MODEL 'KNN'\n",
      "Accuracy score Value: 0.9733\n",
      "              precision    recall  f1-score   support\n",
      "\n",
      "           0       0.98      0.96      0.97      1561\n",
      "           1       0.97      0.99      0.98      1849\n",
      "\n",
      "    accuracy                           0.97      3410\n",
      "   macro avg       0.97      0.97      0.97      3410\n",
      "weighted avg       0.97      0.97      0.97      3410\n",
      "\n"
     ]
    }
   ],
   "source": [
    "best_model = KNeighborsClassifier(**model_param['KNN'])\n",
    "best_model = best_model.fit(X_train,y_train)\n",
    "y_pred = best_model.predict(X_test)\n",
    "score = accuracy_score(y_test,y_pred)\n",
    "clf_report = classification_report(y_test,y_pred)\n",
    "\n",
    "print(\"FINAL MODEL 'KNN'\")\n",
    "print(f\"Accuracy score Value: {score:.4f}\")\n",
    "print(clf_report)"
   ]
  },
  {
   "cell_type": "code",
   "execution_count": 121,
   "id": "9a2558fa-889a-432c-b516-d6fb91eb1f9e",
   "metadata": {},
   "outputs": [
    {
     "data": {
      "text/plain": [
       "<sklearn.metrics._plot.confusion_matrix.ConfusionMatrixDisplay at 0x1e16f60c370>"
      ]
     },
     "execution_count": 121,
     "metadata": {},
     "output_type": "execute_result"
    },
    {
     "data": {
      "image/png": "[encoded data removed]",
      "text/plain": [
       "<Figure size 640x480 with 2 Axes>"
      ]
     },
     "metadata": {},
     "output_type": "display_data"
    }
   ],
   "source": [
    "from sklearn.metrics import ConfusionMatrixDisplay\n",
    "ConfusionMatrixDisplay.from_estimator(best_model,X_test,y_test)"
   ]
  },
  {
   "cell_type": "code",
   "execution_count": null,
   "id": "20b65d84-1405-4df6-8988-4395d8255ac0",
   "metadata": {},
   "outputs": [],
   "source": []
  },
  {
   "cell_type": "code",
   "execution_count": null,
   "id": "d58847a7-9d8b-40e4-9429-e0dd94ebc7cb",
   "metadata": {},
   "outputs": [],
   "source": []
  },
  {
   "cell_type": "code",
   "execution_count": null,
   "id": "65b7d2ce-e353-4a65-97bc-501510319eb9",
   "metadata": {},
   "outputs": [],
   "source": []
  },
  {
   "cell_type": "code",
   "execution_count": null,
   "id": "eccb947c-4153-4504-87ab-8982eee7da4c",
   "metadata": {},
   "outputs": [],
   "source": []
  },
  {
   "cell_type": "code",
   "execution_count": null,
   "id": "bc5e5426-fec7-49f6-a6db-296da25c29fe",
   "metadata": {},
   "outputs": [],
   "source": []
  },
  {
   "cell_type": "code",
   "execution_count": null,
   "id": "d5d56cf8-e8c6-422c-9745-b1791c6f2a3e",
   "metadata": {},
   "outputs": [],
   "source": []
  },
  {
   "cell_type": "code",
   "execution_count": null,
   "id": "af904739-3554-4ba2-85f5-f59340ac7638",
   "metadata": {},
   "outputs": [],
   "source": []
  },
  {
   "cell_type": "code",
   "execution_count": null,
   "id": "583c4485-b510-47bc-9937-8521348db98d",
   "metadata": {},
   "outputs": [],
   "source": []
  },
  {
   "cell_type": "code",
   "execution_count": null,
   "id": "e0f080ce-9b96-4d90-986d-f00442ce9b0b",
   "metadata": {},
   "outputs": [],
   "source": []
  },
  {
   "cell_type": "code",
   "execution_count": null,
   "id": "81fc24b8-e659-466e-a032-bcc52f6788ae",
   "metadata": {},
   "outputs": [],
   "source": []
  },
  {
   "cell_type": "code",
   "execution_count": null,
   "id": "19a34630-2022-4b29-8bdc-504fd4e6cfbd",
   "metadata": {},
   "outputs": [],
   "source": []
  },
  {
   "cell_type": "code",
   "execution_count": null,
   "id": "46e924de-a23d-4581-bb20-d568878d34b6",
   "metadata": {},
   "outputs": [],
   "source": []
  },
  {
   "cell_type": "code",
   "execution_count": null,
   "id": "8556599e-9278-4aa6-b338-ff9a24220456",
   "metadata": {},
   "outputs": [],
   "source": []
  },
  {
   "cell_type": "code",
   "execution_count": null,
   "id": "2ba3991f-858d-4f94-8ab9-ae283eb4a6c5",
   "metadata": {},
   "outputs": [],
   "source": []
  },
  {
   "cell_type": "code",
   "execution_count": null,
   "id": "2ea6eb1d-d135-494a-bad3-1d2b69932f79",
   "metadata": {},
   "outputs": [],
   "source": []
  },
  {
   "cell_type": "code",
   "execution_count": null,
   "id": "66fe86e6-0b2e-4366-a0a2-a3b1294a5cb8",
   "metadata": {},
   "outputs": [],
   "source": []
  },
  {
   "cell_type": "code",
   "execution_count": null,
   "id": "ae91e443-368b-4ffc-9ab0-5e36573e0ea4",
   "metadata": {},
   "outputs": [],
   "source": []
  },
  {
   "cell_type": "code",
   "execution_count": null,
   "id": "1fb45ac9-6a5f-4a19-a934-6313ccfddbde",
   "metadata": {},
   "outputs": [],
   "source": []
  },
  {
   "cell_type": "code",
   "execution_count": null,
   "id": "08267ed4-8f1f-4aa8-8706-7c63a67a05c7",
   "metadata": {},
   "outputs": [],
   "source": []
  },
  {
   "cell_type": "code",
   "execution_count": null,
   "id": "29e5e456-97d6-4ca5-8425-59e18e06d756",
   "metadata": {},
   "outputs": [],
   "source": []
  },
  {
   "cell_type": "code",
   "execution_count": null,
   "id": "dfad16d4-e9f4-4639-8f0e-c3d685de854c",
   "metadata": {},
   "outputs": [],
   "source": []
  },
  {
   "cell_type": "code",
   "execution_count": null,
   "id": "bd79ff95-aab0-4b4e-9fe4-235dc4f713aa",
   "metadata": {},
   "outputs": [],
   "source": []
  },
  {
   "cell_type": "code",
   "execution_count": null,
   "id": "a653c8d2-ce32-4529-80d3-785784c62389",
   "metadata": {},
   "outputs": [],
   "source": []
  },
  {
   "cell_type": "code",
   "execution_count": null,
   "id": "eac6fc6b-6191-48b8-973c-f6229fb45f78",
   "metadata": {},
   "outputs": [],
   "source": []
  },
  {
   "cell_type": "code",
   "execution_count": null,
   "id": "531236ab-45ca-4f37-b0d6-1ffce828b61c",
   "metadata": {},
   "outputs": [],
   "source": []
  },
  {
   "cell_type": "code",
   "execution_count": null,
   "id": "0b82ebce-fdd0-44ea-a78e-4d44a36245eb",
   "metadata": {},
   "outputs": [],
   "source": []
  },
  {
   "cell_type": "code",
   "execution_count": null,
   "id": "20ed414c-83d1-4c84-8581-372601ae5a79",
   "metadata": {},
   "outputs": [],
   "source": []
  },
  {
   "cell_type": "code",
   "execution_count": null,
   "id": "6fcd7665-1795-4ef0-8de0-94c49dfab15a",
   "metadata": {},
   "outputs": [],
   "source": []
  },
  {
   "cell_type": "code",
   "execution_count": null,
   "id": "65925a57-14f7-4268-a6dc-4b454c28b73f",
   "metadata": {},
   "outputs": [],
   "source": []
  },
  {
   "cell_type": "code",
   "execution_count": null,
   "id": "c85767e1-d9a3-4d9f-a334-a817a69f1c3c",
   "metadata": {},
   "outputs": [],
   "source": []
  },
  {
   "cell_type": "code",
   "execution_count": null,
   "id": "d2eb043d-c12a-416a-adba-4464247f6b9f",
   "metadata": {},
   "outputs": [],
   "source": []
  },
  {
   "cell_type": "code",
   "execution_count": null,
   "id": "3e4072cc-f45f-442e-842c-35e6c1bea71d",
   "metadata": {},
   "outputs": [],
   "source": []
  },
  {
   "cell_type": "code",
   "execution_count": null,
   "id": "6ed4edbc-c657-4e86-9c78-d31863de1ad4",
   "metadata": {},
   "outputs": [],
   "source": []
  },
  {
   "cell_type": "code",
   "execution_count": null,
   "id": "3e2e2c0b-4486-47bd-97ca-7d0a9fc8a2a7",
   "metadata": {},
   "outputs": [],
   "source": []
  },
  {
   "cell_type": "code",
   "execution_count": null,
   "id": "5411da69-6600-40b4-a01e-f5e23f6c5bbb",
   "metadata": {},
   "outputs": [],
   "source": []
  },
  {
   "cell_type": "code",
   "execution_count": null,
   "id": "f7dadcaf-1edb-4477-99d1-b123b95eaebf",
   "metadata": {},
   "outputs": [],
   "source": []
  },
  {
   "cell_type": "code",
   "execution_count": null,
   "id": "e301f33f-6f47-4bac-abbd-ce3d149cfa40",
   "metadata": {},
   "outputs": [],
   "source": []
  },
  {
   "cell_type": "code",
   "execution_count": null,
   "id": "eab20ec0-8a30-46d1-8512-34de7e2884c3",
   "metadata": {},
   "outputs": [],
   "source": []
  },
  {
   "cell_type": "code",
   "execution_count": null,
   "id": "4eb9303e-6503-479a-bd59-b222f8d5301e",
   "metadata": {},
   "outputs": [],
   "source": []
  },
  {
   "cell_type": "code",
   "execution_count": null,
   "id": "ecfae53e-64d1-4cee-b157-cc75fd3a6f8b",
   "metadata": {},
   "outputs": [],
   "source": []
  },
  {
   "cell_type": "code",
   "execution_count": null,
   "id": "ad26380f-050b-40fc-bd0b-2068f3e3b8cc",
   "metadata": {},
   "outputs": [],
   "source": []
  },
  {
   "cell_type": "code",
   "execution_count": null,
   "id": "8a15e00e-05ee-43c9-aa2e-c6173efad028",
   "metadata": {},
   "outputs": [],
   "source": []
  },
  {
   "cell_type": "code",
   "execution_count": null,
   "id": "07e78fe3-c299-49fd-888e-1eb163e9b8f7",
   "metadata": {},
   "outputs": [],
   "source": []
  },
  {
   "cell_type": "code",
   "execution_count": null,
   "id": "f5263d2c-a403-4703-8e3d-8509b7a96057",
   "metadata": {},
   "outputs": [],
   "source": []
  },
  {
   "cell_type": "code",
   "execution_count": null,
   "id": "7f0e4c13-0395-4e1a-9d55-9c57ab078679",
   "metadata": {},
   "outputs": [],
   "source": []
  },
  {
   "cell_type": "code",
   "execution_count": null,
   "id": "dddd6efc-0af8-4962-ad8f-25eef0f249c9",
   "metadata": {},
   "outputs": [],
   "source": []
  },
  {
   "cell_type": "code",
   "execution_count": null,
   "id": "08a92d0c-af6f-4166-813a-29749fc5b7db",
   "metadata": {},
   "outputs": [],
   "source": []
  },
  {
   "cell_type": "code",
   "execution_count": null,
   "id": "855847f5-d316-404b-aed4-51684d77d2d7",
   "metadata": {},
   "outputs": [],
   "source": []
  },
  {
   "cell_type": "code",
   "execution_count": null,
   "id": "902e4e26-a5cb-4429-8d56-bb261450c4e8",
   "metadata": {},
   "outputs": [],
   "source": []
  },
  {
   "cell_type": "code",
   "execution_count": null,
   "id": "3a241b01-94e0-4870-9522-867e456d174a",
   "metadata": {},
   "outputs": [],
   "source": []
  },
  {
   "cell_type": "code",
   "execution_count": null,
   "id": "82d09ad3-9744-4a6c-ad5f-4f27fa4e37b1",
   "metadata": {},
   "outputs": [],
   "source": []
  },
  {
   "cell_type": "code",
   "execution_count": null,
   "id": "bee6a106-e4fc-4a33-ba23-634409e46e12",
   "metadata": {},
   "outputs": [],
   "source": []
  },
  {
   "cell_type": "code",
   "execution_count": null,
   "id": "d6df063f-a0ca-4626-8b17-4da045abc5ac",
   "metadata": {},
   "outputs": [],
   "source": []
  },
  {
   "cell_type": "code",
   "execution_count": null,
   "id": "5d587e4b-5194-4953-82e7-5bbd61860fa9",
   "metadata": {},
   "outputs": [],
   "source": []
  },
  {
   "cell_type": "code",
   "execution_count": null,
   "id": "5884b7f2-1fdc-4a63-804b-e035233c333d",
   "metadata": {},
   "outputs": [],
   "source": []
  },
  {
   "cell_type": "code",
   "execution_count": null,
   "id": "50f32681-59a0-4f8c-a51b-ba08e1f0a815",
   "metadata": {},
   "outputs": [],
   "source": []
  },
  {
   "cell_type": "code",
   "execution_count": null,
   "id": "6f8bae74-d474-413c-ac73-5b8fa7865de2",
   "metadata": {},
   "outputs": [],
   "source": []
  },
  {
   "cell_type": "code",
   "execution_count": null,
   "id": "82df7892-5032-4e43-8a53-65f74fe4a8c2",
   "metadata": {},
   "outputs": [],
   "source": []
  },
  {
   "cell_type": "code",
   "execution_count": null,
   "id": "399b7183-4e49-4e06-b89a-1b12600c2981",
   "metadata": {},
   "outputs": [],
   "source": []
  },
  {
   "cell_type": "code",
   "execution_count": null,
   "id": "f170dc80-063d-49ac-88a5-6bf24821311e",
   "metadata": {},
   "outputs": [],
   "source": []
  },
  {
   "cell_type": "code",
   "execution_count": null,
   "id": "122eacf7-220a-4c14-8ed8-e81e56cffef5",
   "metadata": {},
   "outputs": [],
   "source": []
  },
  {
   "cell_type": "code",
   "execution_count": null,
   "id": "b8eb0f2c-8f4c-45e0-b06a-8a05828f5a9a",
   "metadata": {},
   "outputs": [],
   "source": []
  },
  {
   "cell_type": "code",
   "execution_count": null,
   "id": "fdda4633-3d43-4c07-b4f6-bdebcd39c0a8",
   "metadata": {},
   "outputs": [],
   "source": []
  },
  {
   "cell_type": "code",
   "execution_count": null,
   "id": "c2bc3c6b-fbd0-4d17-af2e-ee8dd8f4bdb1",
   "metadata": {},
   "outputs": [],
   "source": []
  },
  {
   "cell_type": "code",
   "execution_count": null,
   "id": "c1a94ce6-52c8-40d5-b275-295ebe1c4185",
   "metadata": {},
   "outputs": [],
   "source": []
  },
  {
   "cell_type": "code",
   "execution_count": null,
   "id": "e15f27f4-2e89-4048-b86b-b19f86f5d8aa",
   "metadata": {},
   "outputs": [],
   "source": []
  },
  {
   "cell_type": "code",
   "execution_count": null,
   "id": "94e5eebc-a889-470c-a51c-d55bcc0d5115",
   "metadata": {},
   "outputs": [],
   "source": []
  },
  {
   "cell_type": "code",
   "execution_count": null,
   "id": "5307fa36-25da-404f-a69b-59be6498c5b0",
   "metadata": {},
   "outputs": [],
   "source": []
  },
  {
   "cell_type": "code",
   "execution_count": null,
   "id": "f03d3d9b-be6b-4386-81f7-9cb09a2b81b7",
   "metadata": {},
   "outputs": [],
   "source": []
  }
 ],
 "metadata": {
  "kernelspec": {
   "display_name": "Python 3 (ipykernel)",
   "language": "python",
   "name": "python3"
  },
  "language_info": {
   "codemirror_mode": {
    "name": "ipython",
    "version": 3
   },
   "file_extension": ".py",
   "mimetype": "text/x-python",
   "name": "python",
   "nbconvert_exporter": "python",
   "pygments_lexer": "ipython3",
   "version": "3.10.13"
  }
 },
 "nbformat": 4,
 "nbformat_minor": 5
}
